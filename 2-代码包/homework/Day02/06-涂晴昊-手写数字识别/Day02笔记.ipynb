{
 "cells": [
  {
   "cell_type": "markdown",
   "metadata": {},
   "source": [
    "# 特征学习与卷积神经网络"
   ]
  },
  {
   "cell_type": "markdown",
   "metadata": {},
   "source": [
    "1. 思路：\n",
    "    - 输入一张图\n",
    "    - 进行n个卷积运算\n",
    "    - 得到n个特征图\n",
    "    - 进行m个卷积运算\n",
    "    - 得到m个特征图\n",
    "    - ....\n",
    "    - 得到l个特征图\n",
    "        - 特征图浓缩为一个特征值（特征向量）"
   ]
  },
  {
   "cell_type": "markdown",
   "metadata": {},
   "source": [
    "2. 数学函数来表示\n",
    "    - 假设图像$X$\n",
    "    - 多个多层卷积计算黑盒为一个函数$f(X) = y = [x_0, x_1, \\dots, x_9]$"
   ]
  },
  {
   "cell_type": "markdown",
   "metadata": {},
   "source": [
    "3. 把数组的类别表示为\n",
    "    - $0 \\to [1, 0, 0 , \\dots , 0]$\n",
    "    - $1 \\to [0, 1, 0 , \\dots , 0]$\n",
    "    - $2 \\to [0, 0, 1 , \\dots , 0]$\n",
    "    - $\\dots$\n",
    "    - $9 \\to [0, 0, 0 , \\dots , 1]$"
   ]
  },
  {
   "cell_type": "markdown",
   "metadata": {},
   "source": [
    "4. 运行的结果\n",
    "    - $[x_0, x_1, \\dots , x_9]$ = 判定最大下标"
   ]
  },
  {
   "cell_type": "markdown",
   "metadata": {},
   "source": [
    "5. 逻辑回归\n",
    "    - sigmod：导数使用函数本身表示\n",
    "    - softmax："
   ]
  },
  {
   "cell_type": "markdown",
   "metadata": {},
   "source": [
    "6. 为了加速卷积计算结果的特征图维度降低\n",
    "    - 引入一个运算：池化pool_max/avg运算：\n",
    "        - $n \\times n$区域变成一个像素\n",
    "            - 均值\n",
    "            - 最值（优选）"
   ]
  },
  {
   "cell_type": "markdown",
   "metadata": {},
   "source": [
    "7. 卷积中会出现负数\n",
    "    - 激活函数\n",
    "        - 过滤负数值（过滤不重要的负面的值）\n",
    "            - $f(x) = x$\n",
    "                - 单调递增\n",
    "                - 可导\n",
    "                - 0在附近必须接近$f(x)=x$"
   ]
  },
  {
   "cell_type": "markdown",
   "metadata": {},
   "source": [
    "8. 怎么学习\n",
    "    - 没有学习的模型输出的预测与真是图像的类型存在误差。\n",
    "        - 误差的数学模型怎么建立\n",
    "            - 损失函数（均方差损失/交叉熵损失/......）\n"
   ]
  },
  {
   "cell_type": "markdown",
   "metadata": {},
   "source": [
    "- $f(k_1, k_2, \\dots, k_{144}) = y_{pred}$"
   ]
  },
  {
   "cell_type": "markdown",
   "metadata": {},
   "source": [
    "- $loss = \\epsilon(y_{pred} - y)$"
   ]
  },
  {
   "cell_type": "markdown",
   "metadata": {},
   "source": [
    "- 求损失函数最小的参数$k_1, k_2, \\dots, k_{144}$"
   ]
  },
  {
   "cell_type": "markdown",
   "metadata": {},
   "source": [
    "- 求函数的最小值的算法：\n",
    "    1. 最小二乘法\n",
    "    2. 坐标法\n",
    "    3. 牛顿迭代\n",
    "    4. 梯度下降法"
   ]
  },
  {
   "cell_type": "markdown",
   "metadata": {},
   "source": []
  },
  {
   "cell_type": "markdown",
   "metadata": {},
   "source": [
    "# 神经网络的实现技术"
   ]
  },
  {
   "cell_type": "markdown",
   "metadata": {},
   "source": [
    "## 实现一个运算"
   ]
  },
  {
   "cell_type": "markdown",
   "metadata": {},
   "source": [
    "- Lenet-5网络\n",
    "    - 输入一副图像\n",
    "    - 结果得到10长的向量"
   ]
  },
  {
   "cell_type": "markdown",
   "metadata": {},
   "source": [
    "- 总结：\n",
    "    - 卷积神经网络：\n",
    "        - 阶段1：抽取图像的特征\n",
    "        - 阶段2：把特征图像格式化成向量，使用分类器分类"
   ]
  },
  {
   "cell_type": "markdown",
   "metadata": {},
   "source": [
    "## 手写数字数据集"
   ]
  },
  {
   "cell_type": "code",
   "execution_count": 1,
   "metadata": {},
   "outputs": [
    {
     "name": "stdout",
     "output_type": "stream",
     "text": [
      "Downloading http://yann.lecun.com/exdb/mnist/train-images-idx3-ubyte.gz to datasets\\MNIST\\raw\\train-images-idx3-ubyte.gz\n"
     ]
    },
    {
     "data": {
      "application/vnd.jupyter.widget-view+json": {
       "model_id": "f4f1c436db374446a70e508371a3d2d9",
       "version_major": 2,
       "version_minor": 0
      },
      "text/plain": [
       "HBox(children=(FloatProgress(value=1.0, bar_style='info', max=1.0), HTML(value='')))"
      ]
     },
     "metadata": {},
     "output_type": "display_data"
    },
    {
     "name": "stdout",
     "output_type": "stream",
     "text": [
      "Extracting datasets\\MNIST\\raw\\train-images-idx3-ubyte.gz to datasets\\MNIST\\raw\n",
      "Downloading http://yann.lecun.com/exdb/mnist/train-labels-idx1-ubyte.gz to datasets\\MNIST\\raw\\train-labels-idx1-ubyte.gz\n"
     ]
    },
    {
     "data": {
      "application/vnd.jupyter.widget-view+json": {
       "model_id": "ac942cc8d1c640798f6f75778b4ea470",
       "version_major": 2,
       "version_minor": 0
      },
      "text/plain": [
       "HBox(children=(FloatProgress(value=1.0, bar_style='info', max=1.0), HTML(value='')))"
      ]
     },
     "metadata": {},
     "output_type": "display_data"
    },
    {
     "name": "stdout",
     "output_type": "stream",
     "text": [
      "Extracting datasets\\MNIST\\raw\\train-labels-idx1-ubyte.gz to datasets\\MNIST\\raw\n",
      "Downloading http://yann.lecun.com/exdb/mnist/t10k-images-idx3-ubyte.gz to datasets\\MNIST\\raw\\t10k-images-idx3-ubyte.gz\n",
      "\n"
     ]
    },
    {
     "data": {
      "application/vnd.jupyter.widget-view+json": {
       "model_id": "91508c7e421344c7865361f67aad9c0b",
       "version_major": 2,
       "version_minor": 0
      },
      "text/plain": [
       "HBox(children=(FloatProgress(value=1.0, bar_style='info', max=1.0), HTML(value='')))"
      ]
     },
     "metadata": {},
     "output_type": "display_data"
    },
    {
     "name": "stdout",
     "output_type": "stream",
     "text": [
      "Extracting datasets\\MNIST\\raw\\t10k-images-idx3-ubyte.gz to datasets\\MNIST\\raw\n",
      "Downloading http://yann.lecun.com/exdb/mnist/t10k-labels-idx1-ubyte.gz to datasets\\MNIST\\raw\\t10k-labels-idx1-ubyte.gz\n"
     ]
    },
    {
     "data": {
      "application/vnd.jupyter.widget-view+json": {
       "model_id": "56d301e318e84dce8d30873462eada7a",
       "version_major": 2,
       "version_minor": 0
      },
      "text/plain": [
       "HBox(children=(FloatProgress(value=1.0, bar_style='info', max=1.0), HTML(value='')))"
      ]
     },
     "metadata": {},
     "output_type": "display_data"
    },
    {
     "name": "stdout",
     "output_type": "stream",
     "text": [
      "Extracting datasets\\MNIST\\raw\\t10k-labels-idx1-ubyte.gz to datasets\\MNIST\\raw\n",
      "Processing...\n",
      "Done!\n",
      "<class 'torchvision.datasets.mnist.MNIST'>\n"
     ]
    }
   ],
   "source": [
    "import torch.nn as nn\n",
    "import torch.nn.functional as fu\n",
    "import torchvision\n",
    "from  torchvision.datasets import MNIST\n",
    "from torchvision.transforms import Compose, ToTensor\n",
    "from torch.utils.data import DataLoader\n",
    "transform = Compose([ToTensor(), ])  # 图像的预处理\n",
    "# 2. 加载数据集\n",
    "train_mnist = MNIST(root=\"datasets\", train=True, download=True, transform=transform)\n",
    "valid_mnist = MNIST(root=\"datasets\", train=False, download=True, transform=transform)\n",
    "print(type(train_mnist))"
   ]
  },
  {
   "cell_type": "code",
   "execution_count": 2,
   "metadata": {},
   "outputs": [
    {
     "name": "stdout",
     "output_type": "stream",
     "text": [
      "Help on class MNIST in module torchvision.datasets.mnist:\n",
      "\n",
      "class MNIST(torchvision.datasets.vision.VisionDataset)\n",
      " |  `MNIST <http://yann.lecun.com/exdb/mnist/>`_ Dataset.\n",
      " |  \n",
      " |  Args:\n",
      " |      root (string): Root directory of dataset where ``MNIST/processed/training.pt``\n",
      " |          and  ``MNIST/processed/test.pt`` exist.\n",
      " |      train (bool, optional): If True, creates dataset from ``training.pt``,\n",
      " |          otherwise from ``test.pt``.\n",
      " |      download (bool, optional): If true, downloads the dataset from the internet and\n",
      " |          puts it in root directory. If dataset is already downloaded, it is not\n",
      " |          downloaded again.\n",
      " |      transform (callable, optional): A function/transform that  takes in an PIL image\n",
      " |          and returns a transformed version. E.g, ``transforms.RandomCrop``\n",
      " |      target_transform (callable, optional): A function/transform that takes in the\n",
      " |          target and transforms it.\n",
      " |  \n",
      " |  Method resolution order:\n",
      " |      MNIST\n",
      " |      torchvision.datasets.vision.VisionDataset\n",
      " |      torch.utils.data.dataset.Dataset\n",
      " |      builtins.object\n",
      " |  \n",
      " |  Methods defined here:\n",
      " |  \n",
      " |  __getitem__(self, index)\n",
      " |      Args:\n",
      " |          index (int): Index\n",
      " |      \n",
      " |      Returns:\n",
      " |          tuple: (image, target) where target is index of the target class.\n",
      " |  \n",
      " |  __init__(self, root, train=True, transform=None, target_transform=None, download=False)\n",
      " |      Initialize self.  See help(type(self)) for accurate signature.\n",
      " |  \n",
      " |  __len__(self)\n",
      " |  \n",
      " |  download(self)\n",
      " |      Download the MNIST data if it doesn't exist in processed_folder already.\n",
      " |  \n",
      " |  extra_repr(self)\n",
      " |  \n",
      " |  ----------------------------------------------------------------------\n",
      " |  Data descriptors defined here:\n",
      " |  \n",
      " |  class_to_idx\n",
      " |  \n",
      " |  processed_folder\n",
      " |  \n",
      " |  raw_folder\n",
      " |  \n",
      " |  test_data\n",
      " |  \n",
      " |  test_labels\n",
      " |  \n",
      " |  train_data\n",
      " |  \n",
      " |  train_labels\n",
      " |  \n",
      " |  ----------------------------------------------------------------------\n",
      " |  Data and other attributes defined here:\n",
      " |  \n",
      " |  classes = ['0 - zero', '1 - one', '2 - two', '3 - three', '4 - four', ...\n",
      " |  \n",
      " |  resources = [('http://yann.lecun.com/exdb/mnist/train-images-idx3-ubyt...\n",
      " |  \n",
      " |  test_file = 'test.pt'\n",
      " |  \n",
      " |  training_file = 'training.pt'\n",
      " |  \n",
      " |  ----------------------------------------------------------------------\n",
      " |  Methods inherited from torchvision.datasets.vision.VisionDataset:\n",
      " |  \n",
      " |  __repr__(self)\n",
      " |      Return repr(self).\n",
      " |  \n",
      " |  ----------------------------------------------------------------------\n",
      " |  Methods inherited from torch.utils.data.dataset.Dataset:\n",
      " |  \n",
      " |  __add__(self, other)\n",
      " |  \n",
      " |  ----------------------------------------------------------------------\n",
      " |  Data descriptors inherited from torch.utils.data.dataset.Dataset:\n",
      " |  \n",
      " |  __dict__\n",
      " |      dictionary for instance variables (if defined)\n",
      " |  \n",
      " |  __weakref__\n",
      " |      list of weak references to the object (if defined)\n",
      "\n"
     ]
    }
   ],
   "source": [
    "help(MNIST)"
   ]
  },
  {
   "cell_type": "markdown",
   "metadata": {},
   "source": [
    "## 把二进制的手写图像数据集保存为图像"
   ]
  },
  {
   "cell_type": "markdown",
   "metadata": {},
   "source": [
    "- 注意：\n",
    "    - PyTorch的张量Tensor保存转换为numpy的矩阵，然后使用opencv保存位图像。\n",
    "    - pytorch表示的图像：归一化的处理（0-1）\n",
    "        - `*255`\n",
    "        - 转换为uint8\n",
    "        - 保存"
   ]
  },
  {
   "cell_type": "markdown",
   "metadata": {},
   "source": [
    "## 自动求导与梯度下降"
   ]
  },
  {
   "cell_type": "markdown",
   "metadata": {},
   "source": [
    "1. 传统的最小值的梯度下降法\n",
    "    - $f(x) = x^2 - 2x + 1 = {(x-1)}^2$"
   ]
  },
  {
   "cell_type": "code",
   "execution_count": 9,
   "metadata": {},
   "outputs": [
    {
     "name": "stdout",
     "output_type": "stream",
     "text": [
      "1.0006655721560884\n"
     ]
    },
    {
     "data": {
      "image/png": "[encoded data removed]",
      "text/plain": [
       "<Figure size 432x288 with 1 Axes>"
      ]
     },
     "metadata": {
      "needs_background": "light"
     },
     "output_type": "display_data"
    }
   ],
   "source": [
    "%matplotlib inline\n",
    "import numpy as np\n",
    "import matplotlib.pyplot as plt\n",
    "\n",
    "# 条件\n",
    "x = 3\n",
    "grad_fn = lambda x: 2 * x -2\n",
    "\n",
    "epoch = 4000\n",
    "learning_rate = 0.001\n",
    "\n",
    "# 记录的数据\n",
    "x_list =[]\n",
    "\n",
    "for e in range(epoch):\n",
    "    # 计算导数\n",
    "    x_grad = grad_fn(x)\n",
    "    # 更新x\n",
    "    x -= x_grad * learning_rate\n",
    "    # 记录x\n",
    "    x_list.append(x)\n",
    "\n",
    "# 打印的结果：\n",
    "print(x)\n",
    "plt.plot(range(epoch), x_list)\n",
    "plt.show()"
   ]
  },
  {
   "cell_type": "markdown",
   "metadata": {},
   "source": [
    "\n",
    "2. Pytorch自动求导的编程API"
   ]
  },
  {
   "cell_type": "code",
   "execution_count": 10,
   "metadata": {},
   "outputs": [
    {
     "name": "stdout",
     "output_type": "stream",
     "text": [
      "tensor([10.])\n"
     ]
    }
   ],
   "source": [
    "import torch\n",
    "# 定义一个张量\n",
    "x = torch.Tensor([5])\n",
    "# 开关条件\n",
    "x.requires_grad = True\n",
    "# 进行计算\n",
    "y = x ** 2\n",
    "\n",
    "# 求导\n",
    "y.backward()\n",
    "\n",
    "# 获取x的导数\n",
    "print(x.grad)"
   ]
  },
  {
   "cell_type": "code",
   "execution_count": 13,
   "metadata": {},
   "outputs": [
    {
     "name": "stdout",
     "output_type": "stream",
     "text": [
      "tensor([0.9997], requires_grad=True)\n"
     ]
    },
    {
     "data": {
      "image/png": "[encoded data removed]",
      "text/plain": [
       "<Figure size 432x288 with 1 Axes>"
      ]
     },
     "metadata": {
      "needs_background": "light"
     },
     "output_type": "display_data"
    }
   ],
   "source": [
    "%matplotlib inline\n",
    "import matplotlib.pyplot as plt\n",
    "import torch\n",
    "# 条件\n",
    "learning_rate = 0.001\n",
    "epoch = 4000\n",
    "x = torch.Tensor([0.1])\n",
    "x.requires_grad = True\n",
    "x_list = []\n",
    "for e in range(epoch):\n",
    "    y = x ** 2 - 2 *x + 1\n",
    "    y.backward(retain_graph=True)\n",
    "    \n",
    "    # 更新x\n",
    "    with torch.autograd.no_grad():\n",
    "        x -= learning_rate * x.grad\n",
    "        x_list.append(x.detach().clone().numpy())\n",
    "        x.grad.zero_()\n",
    "    \n",
    "print(x)    \n",
    "plt.plot(range(epoch), x_list)\n",
    "plt.show()"
   ]
  },
  {
   "cell_type": "markdown",
   "metadata": {},
   "source": [
    "3. 卷积神经使用梯度下降来实现预测误差最小"
   ]
  },
  {
   "cell_type": "markdown",
   "metadata": {},
   "source": []
  },
  {
   "cell_type": "markdown",
   "metadata": {},
   "source": []
  },
  {
   "cell_type": "markdown",
   "metadata": {},
   "source": [
    "# 手写数字识别程序"
   ]
  },
  {
   "cell_type": "markdown",
   "metadata": {},
   "source": []
  },
  {
   "cell_type": "markdown",
   "metadata": {},
   "source": []
  },
  {
   "cell_type": "markdown",
   "metadata": {},
   "source": []
  },
  {
   "cell_type": "markdown",
   "metadata": {},
   "source": []
  },
  {
   "cell_type": "markdown",
   "metadata": {},
   "source": [
    "# 附录"
   ]
  },
  {
   "cell_type": "markdown",
   "metadata": {},
   "source": [
    "## 作业"
   ]
  },
  {
   "cell_type": "markdown",
   "metadata": {},
   "source": [
    "1. 用上课的代码，跑通训练；"
   ]
  },
  {
   "cell_type": "markdown",
   "metadata": {},
   "source": [
    "2. 训练完整运行体验；\n",
    "    - 改参数：轮数，学习率\n",
    "    - 批次\n",
    "    - 使用python记录训练前开始的时刻，以及训练后的时刻，计算出训练轮次的时间"
   ]
  },
  {
   "cell_type": "markdown",
   "metadata": {},
   "source": [
    "3. 自己仿照我们的程序，使用我或者你们自己训练出来的模型，对图像进行识别。"
   ]
  },
  {
   "cell_type": "markdown",
   "metadata": {},
   "source": [
    "- 提示：\n",
    "    - 每个人提交到自己git仓库。"
   ]
  },
  {
   "cell_type": "markdown",
   "metadata": {},
   "source": []
  },
  {
   "cell_type": "markdown",
   "metadata": {},
   "source": []
  }
 ],
 "metadata": {
  "kernelspec": {
   "display_name": "Python 3",
   "language": "python",
   "name": "python3"
  },
  "language_info": {
   "codemirror_mode": {
    "name": "ipython",
    "version": 3
   },
   "file_extension": ".py",
   "mimetype": "text/x-python",
   "name": "python",
   "nbconvert_exporter": "python",
   "pygments_lexer": "ipython3",
   "version": "3.7.0"
  }
 },
 "nbformat": 4,
 "nbformat_minor": 4
}
