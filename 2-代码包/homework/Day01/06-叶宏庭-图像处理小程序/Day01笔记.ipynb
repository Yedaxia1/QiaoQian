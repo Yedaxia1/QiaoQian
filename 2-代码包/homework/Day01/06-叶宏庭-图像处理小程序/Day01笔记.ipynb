{
 "cells": [
  {
   "cell_type": "markdown",
   "metadata": {},
   "source": [
    "# 图像的基础知识"
   ]
  },
  {
   "cell_type": "markdown",
   "metadata": {},
   "source": [
    "1. 图像在编程中就是一个数据结构\n",
    "    - OpenCV：ndarray表示图像\n",
    "    - PyTorch：Tensor（本质是向量，体现更很多的物理特性）\n",
    "    - GUI：Qt  "
   ]
  },
  {
   "cell_type": "markdown",
   "metadata": {},
   "source": [
    "2. ndarray\n",
    "    - numpy.ndarray:线性代数"
   ]
  },
  {
   "cell_type": "markdown",
   "metadata": {},
   "source": [
    "3. 图像的表示：\n",
    "    - 2/3维矩阵：每个元素 = 图像的一个像素（RGB）（255， 0， 0）\n",
    "    - 颜色空间：\n",
    "        - RGB\n",
    "        - HSV\n",
    "        - YUV\n",
    "        - Gray"
   ]
  },
  {
   "cell_type": "markdown",
   "metadata": {},
   "source": [
    "4. 使用ndarray表示图像\n",
    "    - 创建图像 = 创建ndarray对象\n",
    "        - 直接创建\n",
    "        - 加载创建"
   ]
  },
  {
   "cell_type": "code",
   "execution_count": 12,
   "metadata": {},
   "outputs": [
    {
     "data": {
      "text/plain": [
       "True"
      ]
     },
     "execution_count": 12,
     "metadata": {},
     "output_type": "execute_result"
    }
   ],
   "source": [
    "import numpy\n",
    "import cv2\n",
    "# https://numpy.org/devdocs/reference/index.html\n",
    "# 直接使用传统的python数组来创建（工厂模式）\n",
    "# 构建python的数组\n",
    "img_py = [[[0, 0, 255]  for i in range(50)] for j in range(50)]\n",
    "img_np = numpy.array(img_py)\n",
    "img_np\n",
    "cv2.imwrite(\"1.png\", img_np)   # 图像格式：根据扩展名自动化识别"
   ]
  },
  {
   "cell_type": "markdown",
   "metadata": {},
   "source": [
    "![numpy构建图像](1.png)"
   ]
  },
  {
   "cell_type": "markdown",
   "metadata": {},
   "source": [
    "- 注意：\n",
    "    - OpenCV颜色空间默认是BGR"
   ]
  },
  {
   "cell_type": "code",
   "execution_count": 14,
   "metadata": {},
   "outputs": [
    {
     "data": {
      "text/plain": [
       "True"
      ]
     },
     "execution_count": 14,
     "metadata": {},
     "output_type": "execute_result"
    }
   ],
   "source": [
    "import numpy\n",
    "import cv2\n",
    "# 构造器创建\n",
    "img_constructor = numpy.ndarray(shape=(100, 100), dtype=numpy.uint8)\n",
    "cv2.imwrite(\"2.jpg\", img_constructor)"
   ]
  },
  {
   "cell_type": "code",
   "execution_count": 15,
   "metadata": {},
   "outputs": [
    {
     "name": "stdout",
     "output_type": "stream",
     "text": [
      "[[[106  31   0]\n",
      "  [106  30   0]\n",
      "  [110  31   0]\n",
      "  ...\n",
      "  [145  54  19]\n",
      "  [145  54  19]\n",
      "  [145  54  19]]\n",
      "\n",
      " [[112  36   0]\n",
      "  [112  34   0]\n",
      "  [113  34   0]\n",
      "  ...\n",
      "  [145  54  19]\n",
      "  [145  54  19]\n",
      "  [145  54  19]]\n",
      "\n",
      " [[121  43   6]\n",
      "  [119  41   4]\n",
      "  [119  39   2]\n",
      "  ...\n",
      "  [145  54  19]\n",
      "  [145  54  19]\n",
      "  [145  54  19]]\n",
      "\n",
      " ...\n",
      "\n",
      " [[  0   2   3]\n",
      "  [  0   2   3]\n",
      "  [  0   2   3]\n",
      "  ...\n",
      "  [ 80  98 175]\n",
      "  [ 80  98 175]\n",
      "  [ 80  98 175]]\n",
      "\n",
      " [[  0   2   3]\n",
      "  [  0   2   3]\n",
      "  [  0   2   3]\n",
      "  ...\n",
      "  [ 80  98 174]\n",
      "  [ 80  98 174]\n",
      "  [ 80  98 174]]\n",
      "\n",
      " [[  0   2   3]\n",
      "  [  0   2   3]\n",
      "  [  0   2   3]\n",
      "  ...\n",
      "  [ 80  99 174]\n",
      "  [ 80  99 174]\n",
      "  [ 80  99 174]]]\n"
     ]
    }
   ],
   "source": [
    "import numpy\n",
    "import cv2\n",
    "# 加载图像为对象\n",
    "img = cv2.imread(\"imgs/gpu.bmp\")\n",
    "print(img)"
   ]
  },
  {
   "cell_type": "markdown",
   "metadata": {},
   "source": [
    "4. 图像的基本属性\n",
    "    - 数组的属性：shape(高度，宽度，通道)\n",
    "    - 数组的类型\n",
    "    - 数组的数据（字节数组）"
   ]
  },
  {
   "cell_type": "code",
   "execution_count": 26,
   "metadata": {},
   "outputs": [
    {
     "name": "stdout",
     "output_type": "stream",
     "text": [
      "(1080, 1920, 3)\n",
      "3\n",
      "6220800\n",
      "6220800\n",
      "1\n",
      "uint8\n",
      "<memory at 0x000001F7534F6228>\n",
      "<class 'memoryview'>\n",
      "Help on class memoryview in module builtins:\n",
      "\n",
      "class memoryview(object)\n",
      " |  Create a new memoryview object which references the given object.\n",
      " |  \n",
      " |  Methods defined here:\n",
      " |  \n",
      " |  __delitem__(self, key, /)\n",
      " |      Delete self[key].\n",
      " |  \n",
      " |  __enter__(...)\n",
      " |  \n",
      " |  __eq__(self, value, /)\n",
      " |      Return self==value.\n",
      " |  \n",
      " |  __exit__(...)\n",
      " |  \n",
      " |  __ge__(self, value, /)\n",
      " |      Return self>=value.\n",
      " |  \n",
      " |  __getattribute__(self, name, /)\n",
      " |      Return getattr(self, name).\n",
      " |  \n",
      " |  __getitem__(self, key, /)\n",
      " |      Return self[key].\n",
      " |  \n",
      " |  __gt__(self, value, /)\n",
      " |      Return self>value.\n",
      " |  \n",
      " |  __hash__(self, /)\n",
      " |      Return hash(self).\n",
      " |  \n",
      " |  __le__(self, value, /)\n",
      " |      Return self<=value.\n",
      " |  \n",
      " |  __len__(self, /)\n",
      " |      Return len(self).\n",
      " |  \n",
      " |  __lt__(self, value, /)\n",
      " |      Return self<value.\n",
      " |  \n",
      " |  __ne__(self, value, /)\n",
      " |      Return self!=value.\n",
      " |  \n",
      " |  __new__(*args, **kwargs) from builtins.type\n",
      " |      Create and return a new object.  See help(type) for accurate signature.\n",
      " |  \n",
      " |  __repr__(self, /)\n",
      " |      Return repr(self).\n",
      " |  \n",
      " |  __setitem__(self, key, value, /)\n",
      " |      Set self[key] to value.\n",
      " |  \n",
      " |  cast(self, /, format, *, shape)\n",
      " |      Cast a memoryview to a new format or shape.\n",
      " |  \n",
      " |  hex(self, /)\n",
      " |      Return the data in the buffer as a string of hexadecimal numbers.\n",
      " |  \n",
      " |  release(self, /)\n",
      " |      Release the underlying buffer exposed by the memoryview object.\n",
      " |  \n",
      " |  tobytes(self, /)\n",
      " |      Return the data in the buffer as a byte string.\n",
      " |  \n",
      " |  tolist(self, /)\n",
      " |      Return the data in the buffer as a list of elements.\n",
      " |  \n",
      " |  ----------------------------------------------------------------------\n",
      " |  Data descriptors defined here:\n",
      " |  \n",
      " |  c_contiguous\n",
      " |      A bool indicating whether the memory is C contiguous.\n",
      " |  \n",
      " |  contiguous\n",
      " |      A bool indicating whether the memory is contiguous.\n",
      " |  \n",
      " |  f_contiguous\n",
      " |      A bool indicating whether the memory is Fortran contiguous.\n",
      " |  \n",
      " |  format\n",
      " |      A string containing the format (in struct module style)\n",
      " |      for each element in the view.\n",
      " |  \n",
      " |  itemsize\n",
      " |      The size in bytes of each element of the memoryview.\n",
      " |  \n",
      " |  nbytes\n",
      " |      The amount of space in bytes that the array would use in\n",
      " |      a contiguous representation.\n",
      " |  \n",
      " |  ndim\n",
      " |      An integer indicating how many dimensions of a multi-dimensional\n",
      " |      array the memory represents.\n",
      " |  \n",
      " |  obj\n",
      " |      The underlying object of the memoryview.\n",
      " |  \n",
      " |  readonly\n",
      " |      A bool indicating whether the memory is read only.\n",
      " |  \n",
      " |  shape\n",
      " |      A tuple of ndim integers giving the shape of the memory\n",
      " |      as an N-dimensional array.\n",
      " |  \n",
      " |  strides\n",
      " |      A tuple of ndim integers giving the size in bytes to access\n",
      " |      each element for each dimension of the array.\n",
      " |  \n",
      " |  suboffsets\n",
      " |      A tuple of integers used internally for PIL-style arrays.\n",
      "\n"
     ]
    },
    {
     "data": {
      "text/plain": [
       "\u001b[1;31mInit signature:\u001b[0m \u001b[0mmemoryview\u001b[0m\u001b[1;33m(\u001b[0m\u001b[0mobject\u001b[0m\u001b[1;33m)\u001b[0m\u001b[1;33m\u001b[0m\u001b[0m\n",
       "\u001b[1;31mDocstring:\u001b[0m      Create a new memoryview object which references the given object.\n",
       "\u001b[1;31mType:\u001b[0m           type\n",
       "\u001b[1;31mSubclasses:\u001b[0m     \n"
      ]
     },
     "metadata": {},
     "output_type": "display_data"
    }
   ],
   "source": [
    "import cv2\n",
    "img = cv2.imread(\"imgs/gpu.bmp\")\n",
    "print(img.shape)\n",
    "print(img.ndim)\n",
    "print(img.size)\n",
    "print(img.nbytes)\n",
    "print(img.itemsize)\n",
    "print(img.dtype)\n",
    "print(img.data)\n",
    "print(type(img.data))\n",
    "memoryview?\n",
    "help(memoryview)"
   ]
  },
  {
   "cell_type": "markdown",
   "metadata": {},
   "source": [
    "5. 图像操作\n",
    "    - 运算符\n",
    "        - []下标\n",
    "            1. 标量，元组（推荐：不变）或者列表（可变）\n",
    "            2. 切片（切片表达式，切片对象）\n",
    "            3. 逻辑类型的ndarray（与原数组同型）\n",
    "            4. 支持多参数（与维度一致）\n",
    "    - 普通函数/方法\n",
    "        - 见下面6"
   ]
  },
  {
   "cell_type": "code",
   "execution_count": 39,
   "metadata": {},
   "outputs": [
    {
     "data": {
      "text/plain": [
       "array([[106,  31],\n",
       "       [112,  36]], dtype=uint8)"
      ]
     },
     "execution_count": 39,
     "metadata": {},
     "output_type": "execute_result"
    }
   ],
   "source": [
    "import cv2\n",
    "img = cv2.imread(\"imgs/gpu.bmp\")\n",
    "\n",
    "# img[0]  # 访问行：取值，赋值\n",
    "# img[0, 1, 1]  # 访问行，img[[0, 1, 1]]  img[(0, 1, 1)]\n",
    "\n",
    "img[0:2:2]  # 访问行，[start, end)\n",
    "img[slice(0,2,2)]  # 访问行，[start, end)\n",
    "\n",
    "# 多参数访问，按照维度坐标访问，多参数必须与数组的维度一致\n",
    "img[[0, 1], 0, slice(0, 2,1)]"
   ]
  },
  {
   "cell_type": "code",
   "execution_count": 47,
   "metadata": {},
   "outputs": [
    {
     "data": {
      "text/plain": [
       "True"
      ]
     },
     "execution_count": 47,
     "metadata": {},
     "output_type": "execute_result"
    }
   ],
   "source": [
    "import cv2\n",
    "img_idx = cv2.imread(\"imgs/gpu.bmp\")\n",
    "\n",
    "# img_idx[::, :, 2:] = 120\n",
    "# img_idx[::, :, 1:2:] = 0\n",
    "\n",
    "\n",
    "\n",
    "(img_idx[::, :, 2:])[img_idx[::, :, :] > 200] = 255\n",
    "cv2.imwrite(\"4.jpg\", img_idx)\n"
   ]
  },
  {
   "cell_type": "code",
   "execution_count": 49,
   "metadata": {},
   "outputs": [
    {
     "data": {
      "text/plain": [
       "array([[88,  2, 88, 88],\n",
       "       [ 3, 88,  5,  6]])"
      ]
     },
     "execution_count": 49,
     "metadata": {},
     "output_type": "execute_result"
    }
   ],
   "source": [
    "import numpy as np\n",
    "arr = np.array([\n",
    "    [1, 2, 3, 4],\n",
    "    [3, 4, 5, 6]\n",
    "])\n",
    "arr_b = np.array([\n",
    "    [True,  False, True,  True],\n",
    "    [False, True,  False, False]\n",
    "])\n",
    "\n",
    "arr[arr_b] = 88\n",
    "arr"
   ]
  },
  {
   "cell_type": "markdown",
   "metadata": {},
   "source": [
    "6. 图像作为矩阵的操作\n",
    "    1. 矩阵转置 = 图像旋转\n",
    "        - 维度做逆序交换.T\n",
    "        - 任意交换transpose\n",
    "    2. 改变形状\n",
    "        - reshape （数组元素个数不变）\n",
    "    3. 改变大小\n",
    "        - resize：\n",
    "            - 缩放\n",
    "            - 截断\n",
    "    4. 扩维/缩维\n",
    "        - squeeze(axis=维度)：axis裁剪是的维度的维数必须是1 "
   ]
  },
  {
   "cell_type": "code",
   "execution_count": 66,
   "metadata": {},
   "outputs": [
    {
     "name": "stdout",
     "output_type": "stream",
     "text": [
      "(1080, 1, 1920, 3)\n"
     ]
    }
   ],
   "source": [
    "import cv2\n",
    "img = cv2.imread(\"imgs/gpu.bmp\")\n",
    "# print(img.shape)\n",
    "# print(img.T.shape)\n",
    "# img_t = img.transpose(1, 0, 2) \n",
    "# print(img_t.shape)\n",
    "# cv2.imwrite(\"5.jpg\", img_t)\n",
    "# # 数据维度的改变：Torch： 【N，C， H， W】\n",
    "# img_s = img.reshape(100, img.shape[0] * img.shape[1] // 100,3)\n",
    "# cv2.imwrite(\"6.jpg\", img_s)\n",
    "\n",
    "# img.resize([500,500, 3])    # Cython : refcheck=False\n",
    "# cv2.imwrite(\"7.jpg\", img)\n",
    "\n",
    "# print(img.shape)\n",
    "# print(img[:,:,1:2].shape)\n",
    "# img_sq = img[:,:,1:2].squeeze(axis=2)\n",
    "# print(img_sq.shape)\n",
    "import numpy as np\n",
    "\n",
    "# img_ex = numpy.expand_dims(img, axis=0)\n",
    "img_ex = img[:, numpy.newaxis, :, :]\n",
    "print(img_ex.shape)\n"
   ]
  },
  {
   "cell_type": "markdown",
   "metadata": {},
   "source": [
    "7. 其他\n",
    "    - PIL -> Numpy\n",
    "        - numpy.array(PIL.Image)\n",
    "    - Numpy -> Tensor\n",
    "        - torch.tensor(ndarray/list/tuple)\n",
    "    - numpy  -> Python\n",
    "        - ndarray.tolist() \n",
    "    - PIL -> Torch\n",
    "        - toTensor()\n",
    "    "
   ]
  },
  {
   "cell_type": "markdown",
   "metadata": {},
   "source": [
    "8. 数组的其他常用操作\n",
    "    - ndarray.mean(axis=0, dtype=numpy.float)\n",
    "    - ndarray.sum\n",
    "    - ndarray.max\n",
    "    - ndarray.argmax\n",
    "    - ndarray.astype(numpy.float64)"
   ]
  },
  {
   "cell_type": "markdown",
   "metadata": {},
   "source": [
    "- 上午的目的：\n",
    "    - 通过对ndarrya数组的操作，来实现图像的操作。\n",
    "    - 为后面机器视觉中图像的预处理做准备。"
   ]
  },
  {
   "cell_type": "markdown",
   "metadata": {},
   "source": [
    "# 图像的特征与卷积"
   ]
  },
  {
   "cell_type": "markdown",
   "metadata": {},
   "source": [
    "## 卷积"
   ]
  },
  {
   "cell_type": "markdown",
   "metadata": {},
   "source": [
    "- $$ h(x) = \\int  _{-\\infty}^{+\\infty} f(\\tau) g(x - \\tau) \\mathrm{d}\\tau$$"
   ]
  },
  {
   "cell_type": "markdown",
   "metadata": {},
   "source": [
    "- $ x \\to (x , y)$\n",
    "- $ \\tau \\to (i, j)$\n",
    "- 积分$\\int$ = 求和$\\sum$"
   ]
  },
  {
   "cell_type": "markdown",
   "metadata": {},
   "source": [
    "$$ h(x, y) = \\sum  _{i,j \\in [-N, + N]} f(i, j) g(x-i,  y-j) $$"
   ]
  },
  {
   "cell_type": "markdown",
   "metadata": {},
   "source": [
    "- 局部加权运算\n",
    "    - g称为原图像\n",
    "    - f称为conv-kernel卷积核\n",
    "    - 原图像大小$S \\times S$，卷积核$K \\times K$，则新的图像大小$(S-K+1) \\times (S-K+1)$\n",
    "        - 为了保持图像大小不变：padding补边。补边：$\\dfrac{K-1}{2}$"
   ]
  },
  {
   "cell_type": "markdown",
   "metadata": {},
   "source": [
    "## OpenCV的卷积运算的例子"
   ]
  },
  {
   "cell_type": "markdown",
   "metadata": {},
   "source": [
    "1. 卷积核取值采用高斯分布"
   ]
  },
  {
   "cell_type": "code",
   "execution_count": 69,
   "metadata": {},
   "outputs": [
    {
     "data": {
      "text/plain": [
       "True"
      ]
     },
     "execution_count": 69,
     "metadata": {},
     "output_type": "execute_result"
    }
   ],
   "source": [
    "import cv2\n",
    "\n",
    "# 读取图像\n",
    "img = cv2.imread(\"imgs/gpu.bmp\")\n",
    "# 做高斯卷积运算\n",
    "img_gauss = cv2.GaussianBlur(img, (15, 15), 10)\n",
    "# 保存结果图像\n",
    "cv2.imwrite(\"8.jpg\", img_gauss)"
   ]
  },
  {
   "cell_type": "markdown",
   "metadata": {},
   "source": [
    "2. 手工设置卷积核，取值随意。\n",
    "    - 原图 -(卷积核)-> Feature-Map"
   ]
  },
  {
   "cell_type": "code",
   "execution_count": 73,
   "metadata": {},
   "outputs": [
    {
     "data": {
      "text/plain": [
       "True"
      ]
     },
     "execution_count": 73,
     "metadata": {},
     "output_type": "execute_result"
    }
   ],
   "source": [
    "import cv2\n",
    "import numpy\n",
    "# 1. 读取图像\n",
    "img = cv2.imread(\"imgs/gpu.bmp\")\n",
    "# 2. 定制卷积核\n",
    "kernel = numpy.array([\n",
    "    [ -1, -1, -1],\n",
    "    [  0,  0,  0],\n",
    "    [  1,  1,  1]\n",
    "])\n",
    "# 3. 做卷积运算\n",
    "# dst=cv.filter2D(src, ddepth, kernel[, dst[, anchor[, delta[, borderType]]]]\t)\n",
    "\"\"\"\n",
    "    src: 原图像\n",
    "    ddepth：建议指定-1，保持输入与输出的图像深度一致（数据类型，通道：U8C2）\n",
    "    kernel：定制核\n",
    "    \n",
    "\"\"\"\n",
    "img_filter = cv2.filter2D(img, -1, kernel, delta=127)\n",
    "# 4. 保存图像\n",
    "cv2.imwrite(\"9.jpg\", img_filter)\n"
   ]
  },
  {
   "cell_type": "markdown",
   "metadata": {},
   "source": [
    "## 图像特征"
   ]
  },
  {
   "cell_type": "markdown",
   "metadata": {},
   "source": [
    "- 定义：\n",
    "    - 特征：变化的像素\n",
    "        - 图像的微分/导数/梯度"
   ]
  },
  {
   "cell_type": "markdown",
   "metadata": {},
   "source": [
    "- 图像特征：\n",
    "    - 1阶微分：Sobel算子   |\n",
    "    - 2阶微分：Laplace算子 |----卷积运算"
   ]
  },
  {
   "cell_type": "code",
   "execution_count": 78,
   "metadata": {},
   "outputs": [
    {
     "data": {
      "text/plain": [
       "True"
      ]
     },
     "execution_count": 78,
     "metadata": {},
     "output_type": "execute_result"
    }
   ],
   "source": [
    "\"\"\"\n",
    "dst = cv.Sobel(src, ddepth, dx, dy[, dst[, ksize[, scale[, delta[, borderType]]]]])\n",
    "    src: 原图\n",
    "    ddepth：\n",
    "    dx：x的导数的阶数\n",
    "    dy：y的导数的阶数\n",
    "    ksize: 模板的大小\n",
    "    scale：数乘系数\n",
    "    delta: 偏移bias\n",
    "\"\"\"\n",
    "import cv2\n",
    "\n",
    "# 读取图像\n",
    "img = cv2.imread(\"imgs/gpu.bmp\")\n",
    "# sobel特征运算\n",
    "img_sobel = cv2.Sobel(img, -1, 2, 0, ksize=3, scale=1, delta=127)\n",
    "# 保存图像\n",
    "cv2.imwrite(\"10.jpg\", img_sobel)\n"
   ]
  },
  {
   "cell_type": "markdown",
   "metadata": {},
   "source": [
    "# 应用目标：\n",
    "\n",
    "- 图形处理的小程序（基础处理 + 特征处理）\n",
    "    - 小程序应用今天的图像技术。\n",
    "    - `pip install PyQt5 -i https://pypi.tuna.tsinghua.edu.cn/simple/`\n",
    "    - `pip install opencv-python -i https://pypi.tuna.tsinghua.edu.cn/simple/`"
   ]
  },
  {
   "cell_type": "markdown",
   "metadata": {},
   "source": [
    "1. 工程\n",
    "    - 目录\n",
    "    - 文件\n",
    "    - 配置"
   ]
  },
  {
   "cell_type": "markdown",
   "metadata": {},
   "source": [
    "2. 文件-类结构\n",
    "    1. AppFrame   继承QDialog\n",
    "    2. Ui_proc    使用@pyuic5 -o procui.py  proc.ui命令将*.ui->*.py\n",
    "    "
   ]
  },
  {
   "cell_type": "markdown",
   "metadata": {},
   "source": [
    "3. UI类\n",
    "    - `Qt Designer设计UI -> *.py`     @pyuic5 -o procui.py  proc.ui命令"
   ]
  },
  {
   "cell_type": "markdown",
   "metadata": {},
   "source": [
    "4. 实现逻辑\n",
    "    1. 走通程序的流程\n",
    "    2. 交互\n",
    "    3. 图像的基础处理与特征处理"
   ]
  },
  {
   "cell_type": "markdown",
   "metadata": {},
   "source": [
    "## 作业"
   ]
  },
  {
   "cell_type": "markdown",
   "metadata": {},
   "source": [
    "- 完成Qt的图像特征处理的小程序\n",
    "    - GUI\n",
    "    - 交互\n",
    "    - Sobel\n",
    "    - Laplace\n",
    "    - 图像基本处理（数组处理像素）"
   ]
  },
  {
   "cell_type": "markdown",
   "metadata": {},
   "source": [
    "-----"
   ]
  }
 ],
 "metadata": {
  "kernelspec": {
   "display_name": "Python 3",
   "language": "python",
   "name": "python3"
  },
  "language_info": {
   "codemirror_mode": {
    "name": "ipython",
    "version": 3
   },
   "file_extension": ".py",
   "mimetype": "text/x-python",
   "name": "python",
   "nbconvert_exporter": "python",
   "pygments_lexer": "ipython3",
   "version": "3.7.7"
  },
  "toc": {
   "base_numbering": 1,
   "nav_menu": {},
   "number_sections": true,
   "sideBar": true,
   "skip_h1_title": false,
   "title_cell": "Table of Contents",
   "title_sidebar": "Contents",
   "toc_cell": false,
   "toc_position": {},
   "toc_section_display": true,
   "toc_window_display": false
  }
 },
 "nbformat": 4,
 "nbformat_minor": 4
}
