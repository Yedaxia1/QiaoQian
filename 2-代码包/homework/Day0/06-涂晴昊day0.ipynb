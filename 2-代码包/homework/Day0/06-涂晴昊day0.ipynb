{
 "cells": [
  {
   "cell_type": "markdown",
   "metadata": {},
   "source": [
    "# 实训的立意"
   ]
  },
  {
   "cell_type": "markdown",
   "metadata": {},
   "source": [
    "- 实用，创新"
   ]
  },
  {
   "cell_type": "markdown",
   "metadata": {},
   "source": [
    "# Git工具"
   ]
  },
  {
   "cell_type": "markdown",
   "metadata": {},
   "source": [
    "- 代码变更的管理：git\n",
    "    - 代码管理的方式"
   ]
  },
  {
   "cell_type": "markdown",
   "metadata": {},
   "source": [
    "- 服务器参数：\n",
    "    - `http://39.98.59.185:3000/`\n",
    "    - 创建4仓库（每个组一个）\n",
    "    - 仓库地址：'http://39.98.59.185:3000/users/仓库名.git'"
   ]
  },
  {
   "cell_type": "markdown",
   "metadata": {},
   "source": [
    "- 仓库地址：\n",
    "    - `http://39.98.59.185:3000/yangqiang/ai.git`\n",
    "    - username/password"
   ]
  },
  {
   "cell_type": "markdown",
   "metadata": {},
   "source": [
    "## 组员（提交代码）"
   ]
  },
  {
   "cell_type": "markdown",
   "metadata": {},
   "source": [
    "1. 本地初始化环境\n",
    "    - `git init`\n",
    "2. 创建服务关联到仓库\n",
    "    - 命令：`git remote add aimodel  http://39.98.59.185:3000/zhangxiaozheng71118313/QiaoQian.git`\n",
    "3. 拉取服务器仓库的环境\n",
    "    - 命令：`git pull --rebase aimodel master`\n",
    "4. 创建分支\n",
    "    - `git branch tqh`\n",
    "5. 在分支中工作\n",
    "    - `git checkout tqh`\n",
    "6. 提交分支的文件到本地仓库\n",
    "    - `git add .`\n",
    "7. 同步本地代码到服务器仓库\n",
    "    - `git commit -a -m \"initical commit\"`\n",
    "    - `git push --set-upstream aimodel tqh`"
   ]
  },
  {
   "cell_type": "markdown",
   "metadata": {},
   "source": []
  },
  {
   "cell_type": "markdown",
   "metadata": {},
   "source": [
    "## 组长"
   ]
  },
  {
   "cell_type": "markdown",
   "metadata": {},
   "source": [
    "1. 克隆仓库\n",
    "    - `git clone http://39.98.59.185:3000/zhangxiaozheng71118313/QiaoQian.git`\n",
    "2. 本地创建成员分支\n",
    "    - `git checkout -b tqh origin/tqh` \n",
    "3. 切换到主分支\n",
    "    - `git checkout master`\n",
    "4. 进行分支合并\n",
    "    - `git merge tqh`\n",
    "5. 本地提交\n",
    "    - `git commit -a -m \"initical commit\"`\n",
    "6. 同步到服务器\n",
    "    - `git push --set-upstream origin master`"
   ]
  },
  {
   "cell_type": "markdown",
   "metadata": {},
   "source": []
  },
  {
   "cell_type": "markdown",
   "metadata": {},
   "source": [
    "# 石墨云文档"
   ]
  },
  {
   "cell_type": "markdown",
   "metadata": {},
   "source": [
    "1. 账号创建\n",
    "2. 创建目录/文档\n",
    "3. 添加协作者"
   ]
  },
  {
   "cell_type": "markdown",
   "metadata": {},
   "source": [
    "# Markdow"
   ]
  },
  {
   "cell_type": "markdown",
   "metadata": {},
   "source": [
    "- Markdown\n",
    "\n",
    "    - Tyora工具（Markdown参考）"
   ]
  },
  {
   "cell_type": "markdown",
   "metadata": {},
   "source": [
    "- Latex\n",
    "    - 用到什么临时学习\n",
    "    - $\\int$"
   ]
  },
  {
   "cell_type": "markdown",
   "metadata": {},
   "source": [
    "- 组编号-姓名.md / 组编号-姓名.ipynb\n",
    "    - 01-杨强.md"
   ]
  },
  {
   "cell_type": "markdown",
   "metadata": {},
   "source": [
    "# 要求与提交物"
   ]
  },
  {
   "cell_type": "markdown",
   "metadata": {},
   "source": [
    "1. 完成这个笔记\n",
    "2. 创建git仓库，分支，提交各自的笔记到git服务器\n",
    "    - README.md按照日期书写工资日志\n",
    "    "
   ]
  },
  {
   "cell_type": "markdown",
   "metadata": {},
   "source": [
    "- 13338629985"
   ]
  },
  {
   "cell_type": "markdown",
   "metadata": {},
   "source": [
    "------"
   ]
  }
 ],
 "metadata": {
  "kernelspec": {
   "display_name": "Python 3",
   "language": "python",
   "name": "python3"
  },
  "language_info": {
   "codemirror_mode": {
    "name": "ipython",
    "version": 3
   },
   "file_extension": ".py",
   "mimetype": "text/x-python",
   "name": "python",
   "nbconvert_exporter": "python",
   "pygments_lexer": "ipython3",
   "version": "3.7.0"
  }
 },
 "nbformat": 4,
 "nbformat_minor": 4
}
